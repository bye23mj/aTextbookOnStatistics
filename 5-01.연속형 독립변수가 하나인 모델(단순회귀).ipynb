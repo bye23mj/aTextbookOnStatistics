{
 "cells": [
  {
   "cell_type": "markdown",
   "metadata": {},
   "source": [
    "# Chapter 5. 정규선형모델\n",
    "\n",
    " * 정규선형모델: 종속변수(y)가 정규분포를 따르는 것을 가정한 선형 모델  \n",
    "\n",
    "## 5.1. 연속형 독립변수가 하나인 모델(단순회귀)\n",
    "\n",
    "  #### \"날씨가 더울수록 맥주가 많이 팔릴까?\"\n",
    "  \n",
    "  \n",
    " * 종속변수(y): 맥주매상\n",
    " * 독립변수(x): 기온\n",
    " \n",
    " \n",
    " * 목표: 기온(x)이 모델에 들어가는지 판단해보기"
   ]
  },
  {
   "cell_type": "markdown",
   "metadata": {},
   "source": [
    "### 5.1.1. 분석준비"
   ]
  },
  {
   "cell_type": "code",
   "execution_count": 1,
   "metadata": {},
   "outputs": [],
   "source": [
    "# 수치계산에 필요한 라이브러리\n",
    "import numpy as np\n",
    "import pandas as pd\n",
    "import scipy as sp\n",
    "from scipy import stats\n",
    "\n",
    "# 그래프를 그리기 위한 라이브러리\n",
    "from matplotlib import pyplot as plt\n",
    "import seaborn as sns\n",
    "sns.set()\n",
    "\n",
    "# 선형모델을 추정하는 라이브러리(경고가 나올 수 있습니다)\n",
    "import statsmodels.formula.api as smf\n",
    "import statsmodels.api as sm\n",
    "\n",
    "# 표시 자릿수 지정\n",
    "%precision 3\n",
    "# 그래프를 주피터 노트북에 그리기 위한 설정\n",
    "%matplotlib inline"
   ]
  },
  {
   "cell_type": "markdown",
   "metadata": {},
   "source": [
    "### 5.1.2. 데이터 읽어 들이기와 표시"
   ]
  },
  {
   "cell_type": "code",
   "execution_count": 38,
   "metadata": {
    "scrolled": true
   },
   "outputs": [
    {
     "name": "stdout",
     "output_type": "stream",
     "text": [
      "   beer  temperature\n",
      "0  45.3         20.5\n",
      "1  59.3         25.0\n",
      "2  40.4         10.0\n",
      "3  38.0         26.9\n",
      "4  37.0         15.8\n"
     ]
    }
   ],
   "source": [
    "# 맥주 매상 데이터\n",
    "beer = pd.read_csv(\"sample/5-1-1-beer.csv\")\n",
    "print(beer.head())"
   ]
  },
  {
   "cell_type": "code",
   "execution_count": 4,
   "metadata": {},
   "outputs": [
    {
     "data": {
      "text/plain": [
       "<seaborn.axisgrid.JointGrid at 0x1ca81cd6250>"
      ]
     },
     "execution_count": 4,
     "metadata": {},
     "output_type": "execute_result"
    },
    {
     "data": {
      "image/png": "[encoded data removed]",
      "text/plain": [
       "<Figure size 432x432 with 3 Axes>"
      ]
     },
     "metadata": {
      "needs_background": "light"
     },
     "output_type": "display_data"
    }
   ],
   "source": [
    "# 그래프\n",
    "sns.jointplot(x = \"temperature\", y = \"beer\", data = beer, color = 'black')"
   ]
  },
  {
   "cell_type": "markdown",
   "metadata": {},
   "source": [
    "### 5.1.4. statsmodels를 이용한 모델링"
   ]
  },
  {
   "cell_type": "markdown",
   "metadata": {},
   "source": [
    "### 정규선형모델(statsmodels.formula.api.ols)\n",
    "* 모델의 AIC : lm_model.aic\n",
    "* 모델의 로그우도 : lm_model.llf\n",
    "* 모델의 독립변수 수 : lm_model.df_model\n",
    "* 모델 예측 값 : lm_model.predict()\n",
    "* 모델 추정한 파라미터 : lm_model.params\n",
    "* 모델 잔차 : lm_model.resid\n",
    "* 모델 예측 값(2) : lm_model.fittedvalues\n",
    "* 모델 결정계수 : lm_model.rsquared\n",
    "* 모델 수정된 결정계수 : lm_model.rsquared_adj"
   ]
  },
  {
   "cell_type": "code",
   "execution_count": 5,
   "metadata": {},
   "outputs": [],
   "source": [
    "# 정규선형모델 구축\n",
    "# ols: Ordinary Least Squares(범용최소제곱법)\n",
    "# formula : 종속변수가 beer, 독립변수가 temperature\n",
    "# fit: 파라미터 추정까지 진행\n",
    "lm_model = smf.ols(formula = \"beer ~ temperature\", data = beer).fit()"
   ]
  },
  {
   "cell_type": "markdown",
   "metadata": {},
   "source": [
    "### 5.1.5. 추정 결과 표시와 계수 검정"
   ]
  },
  {
   "cell_type": "markdown",
   "metadata": {},
   "source": [
    "* Dep. Variable : 종속변수의 이름\n",
    "* Model : 종속변수이름\n",
    "* Method : 범용최소제곱법을 사용\n",
    "* No. Observations : 샘플사이즈\n",
    "* Df Residuals : 샘슬사이즈에서 추정된 파라미터 수를 뺀 것\n",
    "* Df Model : 사용된 독립변수의 수\n",
    "* Covariance Type : 공분산 타입\n",
    "* R-squared, Adj. R-squared : 결정계수와 자유도 조정이 끝난 결정계수(모델에 의한 추측치가 종속변수의 실제값과 일치하면 1)\n",
    "* F-statistic, Prob (F-statistic) : 분산분석 결과(F가 크면 오차에 비해 효과가 크다)\n",
    "* Log-Likelihood : 최대로그우도\n",
    "* AIC : 아카이케 정보 기중\n",
    "* BIC : 베이즈 정보 기준"
   ]
  },
  {
   "cell_type": "code",
   "execution_count": 8,
   "metadata": {
    "scrolled": true
   },
   "outputs": [
    {
     "data": {
      "text/html": [
       "<table class=\"simpletable\">\n",
       "<caption>OLS Regression Results</caption>\n",
       "<tr>\n",
       "  <th>Dep. Variable:</th>          <td>beer</td>       <th>  R-squared:         </th> <td>   0.504</td>\n",
       "</tr>\n",
       "<tr>\n",
       "  <th>Model:</th>                   <td>OLS</td>       <th>  Adj. R-squared:    </th> <td>   0.486</td>\n",
       "</tr>\n",
       "<tr>\n",
       "  <th>Method:</th>             <td>Least Squares</td>  <th>  F-statistic:       </th> <td>   28.45</td>\n",
       "</tr>\n",
       "<tr>\n",
       "  <th>Date:</th>             <td>Wed, 11 May 2022</td> <th>  Prob (F-statistic):</th> <td>1.11e-05</td>\n",
       "</tr>\n",
       "<tr>\n",
       "  <th>Time:</th>                 <td>11:17:18</td>     <th>  Log-Likelihood:    </th> <td> -102.45</td>\n",
       "</tr>\n",
       "<tr>\n",
       "  <th>No. Observations:</th>      <td>    30</td>      <th>  AIC:               </th> <td>   208.9</td>\n",
       "</tr>\n",
       "<tr>\n",
       "  <th>Df Residuals:</th>          <td>    28</td>      <th>  BIC:               </th> <td>   211.7</td>\n",
       "</tr>\n",
       "<tr>\n",
       "  <th>Df Model:</th>              <td>     1</td>      <th>                     </th>     <td> </td>   \n",
       "</tr>\n",
       "<tr>\n",
       "  <th>Covariance Type:</th>      <td>nonrobust</td>    <th>                     </th>     <td> </td>   \n",
       "</tr>\n",
       "</table>\n",
       "<table class=\"simpletable\">\n",
       "<tr>\n",
       "       <td></td>          <th>coef</th>     <th>std err</th>      <th>t</th>      <th>P>|t|</th>  <th>[0.025</th>    <th>0.975]</th>  \n",
       "</tr>\n",
       "<tr>\n",
       "  <th>Intercept</th>   <td>   34.6102</td> <td>    3.235</td> <td>   10.699</td> <td> 0.000</td> <td>   27.984</td> <td>   41.237</td>\n",
       "</tr>\n",
       "<tr>\n",
       "  <th>temperature</th> <td>    0.7654</td> <td>    0.144</td> <td>    5.334</td> <td> 0.000</td> <td>    0.471</td> <td>    1.059</td>\n",
       "</tr>\n",
       "</table>\n",
       "<table class=\"simpletable\">\n",
       "<tr>\n",
       "  <th>Omnibus:</th>       <td> 0.587</td> <th>  Durbin-Watson:     </th> <td>   1.960</td>\n",
       "</tr>\n",
       "<tr>\n",
       "  <th>Prob(Omnibus):</th> <td> 0.746</td> <th>  Jarque-Bera (JB):  </th> <td>   0.290</td>\n",
       "</tr>\n",
       "<tr>\n",
       "  <th>Skew:</th>          <td>-0.240</td> <th>  Prob(JB):          </th> <td>   0.865</td>\n",
       "</tr>\n",
       "<tr>\n",
       "  <th>Kurtosis:</th>      <td> 2.951</td> <th>  Cond. No.          </th> <td>    52.5</td>\n",
       "</tr>\n",
       "</table><br/><br/>Notes:<br/>[1] Standard Errors assume that the covariance matrix of the errors is correctly specified."
      ],
      "text/plain": [
       "<class 'statsmodels.iolib.summary.Summary'>\n",
       "\"\"\"\n",
       "                            OLS Regression Results                            \n",
       "==============================================================================\n",
       "Dep. Variable:                   beer   R-squared:                       0.504\n",
       "Model:                            OLS   Adj. R-squared:                  0.486\n",
       "Method:                 Least Squares   F-statistic:                     28.45\n",
       "Date:                Wed, 11 May 2022   Prob (F-statistic):           1.11e-05\n",
       "Time:                        11:17:18   Log-Likelihood:                -102.45\n",
       "No. Observations:                  30   AIC:                             208.9\n",
       "Df Residuals:                      28   BIC:                             211.7\n",
       "Df Model:                           1                                         \n",
       "Covariance Type:            nonrobust                                         \n",
       "===============================================================================\n",
       "                  coef    std err          t      P>|t|      [0.025      0.975]\n",
       "-------------------------------------------------------------------------------\n",
       "Intercept      34.6102      3.235     10.699      0.000      27.984      41.237\n",
       "temperature     0.7654      0.144      5.334      0.000       0.471       1.059\n",
       "==============================================================================\n",
       "Omnibus:                        0.587   Durbin-Watson:                   1.960\n",
       "Prob(Omnibus):                  0.746   Jarque-Bera (JB):                0.290\n",
       "Skew:                          -0.240   Prob(JB):                        0.865\n",
       "Kurtosis:                       2.951   Cond. No.                         52.5\n",
       "==============================================================================\n",
       "\n",
       "Notes:\n",
       "[1] Standard Errors assume that the covariance matrix of the errors is correctly specified.\n",
       "\"\"\""
      ]
     },
     "execution_count": 8,
     "metadata": {},
     "output_type": "execute_result"
    }
   ],
   "source": [
    "# 추정결과 표시\n",
    "lm_model.summary()    "
   ]
  },
  {
   "cell_type": "markdown",
   "metadata": {},
   "source": [
    "#### [summary 함수의 출력 내용 설명]\n",
    "[표 1]\n",
    "\n",
    "\n",
    "| 항목                           | 의미                                          |\n",
    "| ------------------------------ | --------------------------------------------- |\n",
    "| Dep.Variable                   | 종속변수의 이름(Depended Variable)            |\n",
    "| Model, Method                  | 범용최소제곱법 사용                           |\n",
    "| Date, Time                     | 모델 추정한 일시                              |\n",
    "| No.Observations                | 샘플사이즈                                    |\n",
    "| Df Residuals                   | 샘플사이즈에서 추정된 파라미터 수를 뺀 것     |\n",
    "| Df Model                       | 사용된 독립변수의 수                          |\n",
    "| Covariance Type                | 공분산 타입, 특별히 지정하지 않으면 nonrobust |\n",
    "| R-squared, Adj.R-sqaured       | 결정계수와 자유도 조정이 끝난 결정계수        |\n",
    "| F-Statistcs, Prob(F-Statistcs) | 분산분석 결과                                 |\n",
    "| Log-Likelyhood                 | 최대로그우도                                  |\n",
    "| AIC                            | 아카이케 정보기준                             |\n",
    "| BIC                            | 베이즈 정보기준                               |\n",
    "\n",
    "\n",
    "\n",
    "[표2]  \n"
   ]
  },
  {
   "cell_type": "markdown",
   "metadata": {},
   "source": [
    "### 5.1.7. AIC를 이용한 모델 선택\n",
    "\n",
    " * 독립변수(x) '기온'을 제외한 모델(=NULL 모델)의 AIC와  \n",
    "   독립변수(x) '기온'이 포함된 모델(=lm_model)의 AIC 비교"
   ]
  },
  {
   "cell_type": "markdown",
   "metadata": {},
   "source": [
    "#### (1) \"모델.aic\"로  AIC 계산하기"
   ]
  },
  {
   "cell_type": "code",
   "execution_count": 10,
   "metadata": {},
   "outputs": [],
   "source": [
    "# NULL 모델\n",
    "null_model = smf.ols(formula = \"beer ~ 1\", data = beer).fit()"
   ]
  },
  {
   "cell_type": "code",
   "execution_count": 11,
   "metadata": {},
   "outputs": [
    {
     "data": {
      "text/plain": [
       "227.94194972563105"
      ]
     },
     "execution_count": 11,
     "metadata": {},
     "output_type": "execute_result"
    }
   ],
   "source": [
    "# NULL모델의 AIC\n",
    "null_model.aic"
   ]
  },
  {
   "cell_type": "code",
   "execution_count": 12,
   "metadata": {},
   "outputs": [
    {
     "data": {
      "text/plain": [
       "208.90902935575437"
      ]
     },
     "execution_count": 12,
     "metadata": {},
     "output_type": "execute_result"
    }
   ],
   "source": [
    "# 독립변수가 있는 모델의 AIC\n",
    "lm_model.aic"
   ]
  },
  {
   "cell_type": "markdown",
   "metadata": {},
   "source": [
    "#### (2) 공식으로 계산하기"
   ]
  },
  {
   "cell_type": "code",
   "execution_count": 12,
   "metadata": {},
   "outputs": [
    {
     "data": {
      "text/plain": [
       "-102.4545146778772"
      ]
     },
     "execution_count": 12,
     "metadata": {},
     "output_type": "execute_result"
    }
   ],
   "source": [
    "# 로그우도\n",
    "lm_model.llf"
   ]
  },
  {
   "cell_type": "code",
   "execution_count": 13,
   "metadata": {},
   "outputs": [
    {
     "data": {
      "text/plain": [
       "1.000"
      ]
     },
     "execution_count": 13,
     "metadata": {},
     "output_type": "execute_result"
    }
   ],
   "source": [
    "# 독립변수의 수\n",
    "lm_model.df_model"
   ]
  },
  {
   "cell_type": "code",
   "execution_count": 14,
   "metadata": {},
   "outputs": [
    {
     "data": {
      "text/plain": [
       "208.9090293557544"
      ]
     },
     "execution_count": 14,
     "metadata": {},
     "output_type": "execute_result"
    }
   ],
   "source": [
    "# AIC\n",
    "-2*(lm_model.llf - (lm_model.df_model + 1))"
   ]
  },
  {
   "cell_type": "markdown",
   "metadata": {},
   "source": [
    "### 5.1.9. seaborn을 이용한 회귀직선 그리기"
   ]
  },
  {
   "cell_type": "code",
   "execution_count": 13,
   "metadata": {},
   "outputs": [
    {
     "data": {
      "text/plain": [
       "<seaborn.axisgrid.FacetGrid at 0x1ca826173d0>"
      ]
     },
     "execution_count": 13,
     "metadata": {},
     "output_type": "execute_result"
    },
    {
     "data": {
      "image/png": "[encoded data removed]",
      "text/plain": [
       "<Figure size 360x360 with 1 Axes>"
      ]
     },
     "metadata": {
      "needs_background": "light"
     },
     "output_type": "display_data"
    }
   ],
   "source": [
    "# scatter_kws: 산포도의 디자인 설정\n",
    "# line_kws: 회귀직선의 디자인 설정\n",
    "sns.lmplot(x = \"temperature\", y = \"beer\", data = beer, scatter_kws = {\"color\": \"black\"}, line_kws = {\"color\": \"black\"})\n",
    "\n",
    "#음영부분: 회귀직선의 95% 신뢰구간"
   ]
  },
  {
   "cell_type": "markdown",
   "metadata": {},
   "source": [
    "### 5.1.10. 모델을 이용한 예측\n",
    "\n",
    "* 모델.predict() 사용법 익히기"
   ]
  },
  {
   "cell_type": "code",
   "execution_count": 14,
   "metadata": {},
   "outputs": [
    {
     "data": {
      "text/plain": [
       "array([50.301, 53.746, 42.264, 55.2  , 46.704, 37.825, 44.943, 54.511,\n",
       "       52.445, 41.116, 54.664, 49.23 , 53.21 , 52.445, 41.04 , 52.598,\n",
       "       45.25 , 61.783, 55.43 , 50.301, 42.418, 50.301, 51.143, 40.657,\n",
       "       66.911, 52.904, 62.854, 41.423, 62.472, 39.509])"
      ]
     },
     "execution_count": 14,
     "metadata": {},
     "output_type": "execute_result"
    }
   ],
   "source": [
    "# 파라미터가 없을 때, 훈련데이터 값이 그대로 출력\n",
    "lm_model.predict()"
   ]
  },
  {
   "cell_type": "code",
   "execution_count": 15,
   "metadata": {},
   "outputs": [
    {
     "data": {
      "text/plain": [
       "0    34.610215\n",
       "1    35.375643\n",
       "2    36.141070\n",
       "3    36.906498\n",
       "4    37.671926\n",
       "5    38.437353\n",
       "6    39.202781\n",
       "7    39.968208\n",
       "dtype: float64"
      ]
     },
     "execution_count": 15,
     "metadata": {},
     "output_type": "execute_result"
    }
   ],
   "source": [
    "# 기온이 0도일 때, 맥주 매상의 기댓값\n",
    "lm_model.predict(pd.DataFrame({\"temperature\":[0,1,2,3,4,5,6,7]}))"
   ]
  },
  {
   "cell_type": "code",
   "execution_count": 16,
   "metadata": {},
   "outputs": [
    {
     "data": {
      "text/plain": [
       "Intercept      34.610215\n",
       "temperature     0.765428\n",
       "dtype: float64"
      ]
     },
     "execution_count": 16,
     "metadata": {},
     "output_type": "execute_result"
    }
   ],
   "source": [
    "# 추정한 파라미터만 표시\n",
    "lm_model.params"
   ]
  },
  {
   "cell_type": "code",
   "execution_count": 17,
   "metadata": {},
   "outputs": [
    {
     "data": {
      "text/plain": [
       "0    49.918767\n",
       "dtype: float64"
      ]
     },
     "execution_count": 17,
     "metadata": {},
     "output_type": "execute_result"
    }
   ],
   "source": [
    "# 맥주 매상의 기댓값\n",
    "lm_model.predict(pd.DataFrame({\"temperature\":[20]}))"
   ]
  },
  {
   "cell_type": "code",
   "execution_count": 18,
   "metadata": {},
   "outputs": [
    {
     "data": {
      "text/plain": [
       "49.91876701095054"
      ]
     },
     "execution_count": 18,
     "metadata": {},
     "output_type": "execute_result"
    }
   ],
   "source": [
    "# beta0 + beta1 x 20의 계산값과 동일\n",
    "beta0 = lm_model.params[0]\n",
    "beta1 = lm_model.params[1]\n",
    "temperature = 20\n",
    "\n",
    "beta0 + beta1 * temperature"
   ]
  },
  {
   "cell_type": "markdown",
   "metadata": {},
   "source": [
    "### 5.1.11 잔차계산\n",
    "\n",
    "* 모델평가 방법: 예측값과 실제값이 얼마나 차이나는지 계산하기"
   ]
  },
  {
   "cell_type": "markdown",
   "metadata": {},
   "source": [
    "#### (1) 모델.resid 로 잔차계산하기"
   ]
  },
  {
   "cell_type": "code",
   "execution_count": 24,
   "metadata": {},
   "outputs": [
    {
     "data": {
      "text/plain": [
       "0    -5.001481\n",
       "1     5.554095\n",
       "2    -1.864491\n",
       "3   -17.200217\n",
       "4    -9.703971\n",
       "dtype: float64"
      ]
     },
     "execution_count": 24,
     "metadata": {},
     "output_type": "execute_result"
    }
   ],
   "source": [
    "# 잔차 계산\n",
    "resid = lm_model.resid\n",
    "resid.head()"
   ]
  },
  {
   "cell_type": "markdown",
   "metadata": {},
   "source": [
    "#### (2) 직접 계산하기"
   ]
  },
  {
   "cell_type": "code",
   "execution_count": 25,
   "metadata": {},
   "outputs": [
    {
     "data": {
      "text/plain": [
       "0    50.301481\n",
       "1    53.745905\n",
       "2    42.264491\n",
       "Name: temperature, dtype: float64"
      ]
     },
     "execution_count": 25,
     "metadata": {},
     "output_type": "execute_result"
    }
   ],
   "source": [
    "# 예측값 계산(1) : 직접 계산하기\n",
    "y_hat = beta0 + beta1 * beer.temperature\n",
    "y_hat.head(3)"
   ]
  },
  {
   "cell_type": "code",
   "execution_count": 39,
   "metadata": {},
   "outputs": [
    {
     "data": {
      "text/plain": [
       "0    50.301481\n",
       "1    53.745905\n",
       "2    42.264491\n",
       "3    55.200217\n",
       "4    46.703971\n",
       "dtype: float64"
      ]
     },
     "execution_count": 39,
     "metadata": {},
     "output_type": "execute_result"
    }
   ],
   "source": [
    "# 예측값 계산(2) : 모델.fittedvalues 사용하기\n",
    "lm_model.fittedvalues.head()"
   ]
  },
  {
   "cell_type": "code",
   "execution_count": 27,
   "metadata": {},
   "outputs": [
    {
     "data": {
      "text/plain": [
       "0   -5.001481\n",
       "1    5.554095\n",
       "2   -1.864491\n",
       "dtype: float64"
      ]
     },
     "execution_count": 27,
     "metadata": {},
     "output_type": "execute_result"
    }
   ],
   "source": [
    "# 실제값 - 예측값 = 잔차\n",
    "(beer.beer - y_hat).head(3)"
   ]
  },
  {
   "cell_type": "code",
   "execution_count": 30,
   "metadata": {},
   "outputs": [
    {
     "data": {
      "text/plain": [
       "-3.126388037344441e-14"
      ]
     },
     "execution_count": 30,
     "metadata": {},
     "output_type": "execute_result"
    }
   ],
   "source": [
    "np.mean((beer.beer - y_hat))"
   ]
  },
  {
   "cell_type": "markdown",
   "metadata": {},
   "source": [
    "### 5.1.12 결정계수\n",
    "\n",
    "* 모델의 적합도 평가방법 :  모델이 데이터를 얼마나 잘 설명해주는지 평가하는 지표\n",
    "* 참고\n",
    "    * https://ko.wikipedia.org/wiki/%EA%B2%B0%EC%A0%95%EA%B3%84%EC%88%98\n",
    "    * https://en.wikipedia.org/wiki/Coefficient_of_determination"
   ]
  },
  {
   "cell_type": "markdown",
   "metadata": {},
   "source": [
    "#### 결정계수(1) : 직접 계산하기\n",
    "\n",
    "![{\\displaystyle R^{2}={\\frac {SS_{\\text{reg}}}{SS_{\\text{tot}}}}={\\frac {SS_{\\text{reg}}/n}{SS_{\\text{tot}}/n}}}](https://wikimedia.org/api/rest_v1/media/math/render/svg/55776df55201c4bf54ba05eb9a2d63a64fb40528)\n",
    "\n",
    "![SS_{\\text{reg}}=\\sum _{i}(f_{i}-{\\bar {y}})^{2},](https://wikimedia.org/api/rest_v1/media/math/render/svg/107a9fb71364b9db3cf481e956ad2af11cba10a1)\n",
    "\n",
    "![SS_{\\text{tot}}=\\sum _{i}(y_{i}-{\\bar {y}})^{2},](https://wikimedia.org/api/rest_v1/media/math/render/svg/aec2d91094ee54fbf0f7912d329706ff016ec1bd)"
   ]
  },
  {
   "cell_type": "code",
   "execution_count": 40,
   "metadata": {},
   "outputs": [
    {
     "data": {
      "text/plain": [
       "0.5039593230611876"
      ]
     },
     "execution_count": 40,
     "metadata": {},
     "output_type": "execute_result"
    }
   ],
   "source": [
    "mu = np.mean(beer.beer)\n",
    "y = beer.beer\n",
    "yhat = lm_model.predict()\n",
    "\n",
    "np.sum((yhat - mu)**2) / np.sum((y - mu)**2)"
   ]
  },
  {
   "cell_type": "markdown",
   "metadata": {},
   "source": [
    "#### 결정계수(2) : 모델.rsqured 사용하기"
   ]
  },
  {
   "cell_type": "code",
   "execution_count": 41,
   "metadata": {},
   "outputs": [
    {
     "data": {
      "text/plain": [
       "0.5039593230611857"
      ]
     },
     "execution_count": 41,
     "metadata": {},
     "output_type": "execute_result"
    }
   ],
   "source": [
    "lm_model.rsquared"
   ]
  },
  {
   "cell_type": "markdown",
   "metadata": {},
   "source": [
    "#### 결정계수(3) : 직접 계산하기\n",
    "\n",
    "![{\\displaystyle R^{2}\\equiv 1-{SS_{\\rm {res}} \\over SS_{\\rm {tot}}}\\,}](https://wikimedia.org/api/rest_v1/media/math/render/svg/0ab5cc13b206a34cc713e153b192f93b685fa875)\n",
    "\n",
    "![{\\displaystyle SS_{\\text{res}}=\\sum _{i}(y_{i}-f_{i})^{2}=\\sum _{i}e_{i}^{2}\\,}](https://wikimedia.org/api/rest_v1/media/math/render/svg/2669c9340581d55b274d3b8ea67a7deb2225510b)\n",
    "\n",
    "![SS_{\\text{tot}}=\\sum _{i}(y_{i}-{\\bar {y}})^{2},](https://wikimedia.org/api/rest_v1/media/math/render/svg/aec2d91094ee54fbf0f7912d329706ff016ec1bd)"
   ]
  },
  {
   "cell_type": "code",
   "execution_count": 28,
   "metadata": {},
   "outputs": [
    {
     "data": {
      "text/plain": [
       "3277.1146666666727"
      ]
     },
     "execution_count": 28,
     "metadata": {},
     "output_type": "execute_result"
    }
   ],
   "source": [
    "np.sum((yhat - mu)**2) + sum(resid**2)"
   ]
  },
  {
   "cell_type": "code",
   "execution_count": 30,
   "metadata": {},
   "outputs": [
    {
     "data": {
      "text/plain": [
       "3277.114666666666"
      ]
     },
     "execution_count": 30,
     "metadata": {},
     "output_type": "execute_result"
    }
   ],
   "source": [
    "np.sum((y - mu)**2)"
   ]
  },
  {
   "cell_type": "code",
   "execution_count": 32,
   "metadata": {},
   "outputs": [
    {
     "data": {
      "text/plain": [
       "0.5039593230611856"
      ]
     },
     "execution_count": 32,
     "metadata": {},
     "output_type": "execute_result"
    }
   ],
   "source": [
    "1 - np.sum(resid**2) / np.sum((y - mu)**2)"
   ]
  },
  {
   "cell_type": "markdown",
   "metadata": {},
   "source": [
    "### 5.1.13 수정된 결정계수\n",
    "\n",
    "* 독립변수의 수가 늘어나는 것에 대해 패널티를 적용한 적용계수\n",
    "\n",
    "* 과적합 해결"
   ]
  },
  {
   "cell_type": "markdown",
   "metadata": {},
   "source": [
    "#### 수정된 결정계수(1) : 직접 계산하기"
   ]
  },
  {
   "cell_type": "code",
   "execution_count": 55,
   "metadata": {},
   "outputs": [
    {
     "data": {
      "text/plain": [
       "0.48624358459908523"
      ]
     },
     "execution_count": 55,
     "metadata": {},
     "output_type": "execute_result"
    }
   ],
   "source": [
    "n = len(beer.beer)\n",
    "s = 1\n",
    "1 - ((np.sum(resid**2) / (n - s - 1)) / \n",
    "    (np.sum((y - mu)**2) / (n - 1)))"
   ]
  },
  {
   "cell_type": "markdown",
   "metadata": {},
   "source": [
    "#### 수정된 결정계수(2) : 모델.rsquared_adj 사용하기"
   ]
  },
  {
   "cell_type": "code",
   "execution_count": 36,
   "metadata": {},
   "outputs": [
    {
     "data": {
      "text/plain": [
       "0.4862435845990851"
      ]
     },
     "execution_count": 36,
     "metadata": {},
     "output_type": "execute_result"
    }
   ],
   "source": [
    "lm_model.rsquared_adj"
   ]
  },
  {
   "cell_type": "markdown",
   "metadata": {},
   "source": [
    "### 5.1.14 잔차 그래프"
   ]
  },
  {
   "cell_type": "code",
   "execution_count": 37,
   "metadata": {},
   "outputs": [
    {
     "data": {
      "text/plain": [
       "<matplotlib.axes._subplots.AxesSubplot at 0x2867edd4648>"
      ]
     },
     "execution_count": 37,
     "metadata": {},
     "output_type": "execute_result"
    },
    {
     "data": {
      "image/png": "[encoded data removed]",
      "text/plain": [
       "<Figure size 432x288 with 1 Axes>"
      ]
     },
     "metadata": {
      "needs_background": "light"
     },
     "output_type": "display_data"
    }
   ],
   "source": [
    "# 잔차의 히스토그램\n",
    "sns.distplot(resid, color = 'black')"
   ]
  },
  {
   "cell_type": "code",
   "execution_count": 38,
   "metadata": {},
   "outputs": [
    {
     "data": {
      "text/plain": [
       "<seaborn.axisgrid.JointGrid at 0x2860064fd48>"
      ]
     },
     "execution_count": 38,
     "metadata": {},
     "output_type": "execute_result"
    },
    {
     "data": {
      "image/png": "[encoded data removed]",
      "text/plain": [
       "<Figure size 432x432 with 3 Axes>"
      ]
     },
     "metadata": {
      "needs_background": "light"
     },
     "output_type": "display_data"
    }
   ],
   "source": [
    "# 잔차의 산포도\n",
    "sns.jointplot(lm_model.fittedvalues, resid, joint_kws={\"color\": \"black\"}, marginal_kws={\"color\": \"black\"})"
   ]
  },
  {
   "cell_type": "markdown",
   "metadata": {},
   "source": [
    "### 5.1.15 Q-Q 플롯\n",
    "\n",
    "* 이론상의 분위점과 실제 데이터의 분위점을 산포도로 나타냄\n",
    "* 잔차가 정규분포에 근접하는지 시각적으로 판단"
   ]
  },
  {
   "cell_type": "markdown",
   "metadata": {},
   "source": [
    "#### Q-Q 플롯(1) : sm.qqplot 사용하기"
   ]
  },
  {
   "cell_type": "code",
   "execution_count": 46,
   "metadata": {},
   "outputs": [
    {
     "data": {
      "image/png": "[encoded data removed]",
      "text/plain": [
       "<Figure size 432x288 with 1 Axes>"
      ]
     },
     "metadata": {
      "needs_background": "light"
     },
     "output_type": "display_data"
    }
   ],
   "source": [
    "# Q-Q 플롯\n",
    "fig = sm.qqplot(resid, line = \"s\")"
   ]
  },
  {
   "cell_type": "markdown",
   "metadata": {},
   "source": [
    "#### Q-Q 플롯(2) : 직접 계산하기"
   ]
  },
  {
   "cell_type": "code",
   "execution_count": 52,
   "metadata": {},
   "outputs": [
    {
     "data": {
      "text/plain": [
       "3    -17.200217\n",
       "21   -14.501481\n",
       "12    -9.710106\n",
       "4     -9.703971\n",
       "10    -7.664418\n",
       "dtype: float64"
      ]
     },
     "execution_count": 52,
     "metadata": {},
     "output_type": "execute_result"
    }
   ],
   "source": [
    "# 작은 데이터가 앞에 오게 정렬\n",
    "resid_sort = resid.sort_values()\n",
    "resid_sort.head()"
   ]
  },
  {
   "cell_type": "code",
   "execution_count": 53,
   "metadata": {},
   "outputs": [
    {
     "data": {
      "text/plain": [
       "0.032"
      ]
     },
     "execution_count": 53,
     "metadata": {},
     "output_type": "execute_result"
    }
   ],
   "source": [
    "# 가장 작은 데이터가 하위 몇 %에 위치하는지 계산\n",
    "# 샘플사이즈 : 30 \n",
    "1 / 31"
   ]
  },
  {
   "cell_type": "code",
   "execution_count": 54,
   "metadata": {},
   "outputs": [
    {
     "data": {
      "text/plain": [
       "array([0.032, 0.065, 0.097, 0.129, 0.161, 0.194, 0.226, 0.258, 0.29 ,\n",
       "       0.323, 0.355, 0.387, 0.419, 0.452, 0.484, 0.516, 0.548, 0.581,\n",
       "       0.613, 0.645, 0.677, 0.71 , 0.742, 0.774, 0.806, 0.839, 0.871,\n",
       "       0.903, 0.935, 0.968])"
      ]
     },
     "execution_count": 54,
     "metadata": {},
     "output_type": "execute_result"
    }
   ],
   "source": [
    "# 모든 데이터에 대해 하위 몇 %에 위치하는지 계산\n",
    "nobs = len(resid_sort)\n",
    "cdf = np.arange(1, nobs + 1) / (nobs + 1)\n",
    "cdf"
   ]
  },
  {
   "cell_type": "code",
   "execution_count": 55,
   "metadata": {},
   "outputs": [
    {
     "data": {
      "text/plain": [
       "array([-1.849, -1.518, -1.3  , -1.131, -0.989, -0.865, -0.753, -0.649,\n",
       "       -0.552, -0.46 , -0.372, -0.287, -0.204, -0.122, -0.04 ,  0.04 ,\n",
       "        0.122,  0.204,  0.287,  0.372,  0.46 ,  0.552,  0.649,  0.753,\n",
       "        0.865,  0.989,  1.131,  1.3  ,  1.518,  1.849])"
      ]
     },
     "execution_count": 55,
     "metadata": {},
     "output_type": "execute_result"
    }
   ],
   "source": [
    "# 분위점 계산: 정규분포의 퍼센트포인트를 사용\n",
    "ppf = stats.norm.ppf(cdf)\n",
    "ppf"
   ]
  },
  {
   "cell_type": "code",
   "execution_count": 56,
   "metadata": {},
   "outputs": [
    {
     "data": {
      "text/plain": [
       "[<matplotlib.lines.Line2D at 0x1ca88df7370>]"
      ]
     },
     "execution_count": 56,
     "metadata": {},
     "output_type": "execute_result"
    },
    {
     "data": {
      "image/png": "[encoded data removed]",
      "text/plain": [
       "<Figure size 432x288 with 1 Axes>"
      ]
     },
     "metadata": {
      "needs_background": "light"
     },
     "output_type": "display_data"
    }
   ],
   "source": [
    "# Q-Q 플롯 그리기\n",
    "# 가로: 분위점(ppf)\n",
    "# 세로: 정렬된 데이터(resid_sort)\n",
    "fig = sm.qqplot(resid, line = \"s\")\n",
    "plt.plot(stats.norm.ppf(cdf), resid_sort, \"o\", color = \"black\")"
   ]
  },
  {
   "cell_type": "markdown",
   "metadata": {},
   "source": [
    "### 5.1.16 summary 함수의 출력으로 보는 잔차 체크"
   ]
  },
  {
   "cell_type": "code",
   "execution_count": 45,
   "metadata": {},
   "outputs": [
    {
     "data": {
      "text/html": [
       "<table class=\"simpletable\">\n",
       "<caption>OLS Regression Results</caption>\n",
       "<tr>\n",
       "  <th>Dep. Variable:</th>          <td>beer</td>       <th>  R-squared:         </th> <td>   0.504</td>\n",
       "</tr>\n",
       "<tr>\n",
       "  <th>Model:</th>                   <td>OLS</td>       <th>  Adj. R-squared:    </th> <td>   0.486</td>\n",
       "</tr>\n",
       "<tr>\n",
       "  <th>Method:</th>             <td>Least Squares</td>  <th>  F-statistic:       </th> <td>   28.45</td>\n",
       "</tr>\n",
       "<tr>\n",
       "  <th>Date:</th>             <td>Mon, 15 Jun 2020</td> <th>  Prob (F-statistic):</th> <td>1.11e-05</td>\n",
       "</tr>\n",
       "<tr>\n",
       "  <th>Time:</th>                 <td>22:33:41</td>     <th>  Log-Likelihood:    </th> <td> -102.45</td>\n",
       "</tr>\n",
       "<tr>\n",
       "  <th>No. Observations:</th>      <td>    30</td>      <th>  AIC:               </th> <td>   208.9</td>\n",
       "</tr>\n",
       "<tr>\n",
       "  <th>Df Residuals:</th>          <td>    28</td>      <th>  BIC:               </th> <td>   211.7</td>\n",
       "</tr>\n",
       "<tr>\n",
       "  <th>Df Model:</th>              <td>     1</td>      <th>                     </th>     <td> </td>   \n",
       "</tr>\n",
       "<tr>\n",
       "  <th>Covariance Type:</th>      <td>nonrobust</td>    <th>                     </th>     <td> </td>   \n",
       "</tr>\n",
       "</table>\n",
       "<table class=\"simpletable\">\n",
       "<tr>\n",
       "       <td></td>          <th>coef</th>     <th>std err</th>      <th>t</th>      <th>P>|t|</th>  <th>[0.025</th>    <th>0.975]</th>  \n",
       "</tr>\n",
       "<tr>\n",
       "  <th>Intercept</th>   <td>   34.6102</td> <td>    3.235</td> <td>   10.699</td> <td> 0.000</td> <td>   27.984</td> <td>   41.237</td>\n",
       "</tr>\n",
       "<tr>\n",
       "  <th>temperature</th> <td>    0.7654</td> <td>    0.144</td> <td>    5.334</td> <td> 0.000</td> <td>    0.471</td> <td>    1.059</td>\n",
       "</tr>\n",
       "</table>\n",
       "<table class=\"simpletable\">\n",
       "<tr>\n",
       "  <th>Omnibus:</th>       <td> 0.587</td> <th>  Durbin-Watson:     </th> <td>   1.960</td>\n",
       "</tr>\n",
       "<tr>\n",
       "  <th>Prob(Omnibus):</th> <td> 0.746</td> <th>  Jarque-Bera (JB):  </th> <td>   0.290</td>\n",
       "</tr>\n",
       "<tr>\n",
       "  <th>Skew:</th>          <td>-0.240</td> <th>  Prob(JB):          </th> <td>   0.865</td>\n",
       "</tr>\n",
       "<tr>\n",
       "  <th>Kurtosis:</th>      <td> 2.951</td> <th>  Cond. No.          </th> <td>    52.5</td>\n",
       "</tr>\n",
       "</table><br/><br/>Warnings:<br/>[1] Standard Errors assume that the covariance matrix of the errors is correctly specified."
      ],
      "text/plain": [
       "<class 'statsmodels.iolib.summary.Summary'>\n",
       "\"\"\"\n",
       "                            OLS Regression Results                            \n",
       "==============================================================================\n",
       "Dep. Variable:                   beer   R-squared:                       0.504\n",
       "Model:                            OLS   Adj. R-squared:                  0.486\n",
       "Method:                 Least Squares   F-statistic:                     28.45\n",
       "Date:                Mon, 15 Jun 2020   Prob (F-statistic):           1.11e-05\n",
       "Time:                        22:33:41   Log-Likelihood:                -102.45\n",
       "No. Observations:                  30   AIC:                             208.9\n",
       "Df Residuals:                      28   BIC:                             211.7\n",
       "Df Model:                           1                                         \n",
       "Covariance Type:            nonrobust                                         \n",
       "===============================================================================\n",
       "                  coef    std err          t      P>|t|      [0.025      0.975]\n",
       "-------------------------------------------------------------------------------\n",
       "Intercept      34.6102      3.235     10.699      0.000      27.984      41.237\n",
       "temperature     0.7654      0.144      5.334      0.000       0.471       1.059\n",
       "==============================================================================\n",
       "Omnibus:                        0.587   Durbin-Watson:                   1.960\n",
       "Prob(Omnibus):                  0.746   Jarque-Bera (JB):                0.290\n",
       "Skew:                          -0.240   Prob(JB):                        0.865\n",
       "Kurtosis:                       2.951   Cond. No.                         52.5\n",
       "==============================================================================\n",
       "\n",
       "Warnings:\n",
       "[1] Standard Errors assume that the covariance matrix of the errors is correctly specified.\n",
       "\"\"\""
      ]
     },
     "execution_count": 45,
     "metadata": {},
     "output_type": "execute_result"
    }
   ],
   "source": [
    "# 추정 결과보기\n",
    "lm_model.summary()"
   ]
  },
  {
   "cell_type": "markdown",
   "metadata": {},
   "source": [
    "| 항목                 | 설명                                       |\n",
    "| -------------------- | ------------------------------------------ |\n",
    "| **Prob(Omnibus)**    | 잔차의 정규성 검정                         |\n",
    "| **Skew**             | 왜도(좌우 비대칭 정도) 양수인경우 오른쪽이 큼                     |\n",
    "| **Kurtosis**         | 첨도(중심부 뾰족함 정도) 정규분포3                   |\n",
    "| **Durbin-Watson**    | 잔차의 자기상관 체크, 2 전후이면 문제 없음 시계열분석 반드시 확인|\n",
    "| **Jarque-Bera (JB)** | 정규성 검정(5.99보다 크면 정규분포 아님)   |\n",
    "| **Prob(JB)**         | 잔차의 정규성 검정                         |"
   ]
  },
  {
   "cell_type": "markdown",
   "metadata": {},
   "source": [
    "## [정리] \n",
    "\n",
    "### 독립변수(x)가 하나인 단순회귀 모델 작성 방법\n",
    "\n",
    "1. 모델링: lm_model=**smf.ols**(formula = \"beer ~ temperature\", data = beer).fit()\n",
    "2. 추정 결과 분석: lm_model.**summary()**\n",
    "   * AIC 값 비교(lm_model**.aic**): Null모델 vs 회귀모델\n",
    "\n",
    "3. 회귀모델을 활용한 예측: lm_model.**predict()**\n",
    "4. 검증\n",
    "   1. 잔차계산: lm_model.**resid**\n",
    "   2. 결정계수(R^2): lm_model.**rsquared**\n",
    "   3. 수정된 결정계수: lm_model.**rsquared_adj**\n"
   ]
  },
  {
   "cell_type": "code",
   "execution_count": 27,
   "metadata": {},
   "outputs": [
    {
     "name": "stdout",
     "output_type": "stream",
     "text": [
      "   beer  temperature\n",
      "0  45.3         20.5\n",
      "1  59.3         25.0\n",
      "2  40.4         10.0\n",
      "3  38.0         26.9\n",
      "4  37.0         15.8\n"
     ]
    }
   ],
   "source": [
    "# 맥주 매상 데이터\n",
    "beer = pd.read_csv(\"5-1-1-beer.csv\")\n",
    "print(beer.head())"
   ]
  },
  {
   "cell_type": "code",
   "execution_count": 35,
   "metadata": {},
   "outputs": [
    {
     "name": "stdout",
     "output_type": "stream",
     "text": [
      "    beer  temperature\n",
      "0   45.3         20.5\n",
      "1   59.3         25.0\n",
      "2   40.4         10.0\n",
      "3   38.0         26.9\n",
      "4   37.0         15.8\n",
      "5   40.9          4.2\n",
      "6   60.2         13.5\n",
      "7   63.3         26.0\n",
      "8   51.1         23.3\n",
      "9   44.9          8.5\n",
      "10  47.0         26.2\n",
      "11  53.2         19.1\n",
      "12  43.5         24.3\n",
      "13  53.2         23.3\n",
      "14  37.4          8.4\n",
      "15  59.9         23.5\n",
      "16  41.5         13.9\n",
      "17  75.1         35.5\n",
      "18  55.6         27.2\n",
      "19  57.2         20.5\n",
      "20  46.5         10.2\n",
      "21  35.8         20.5\n",
      "22  51.9         21.6\n",
      "23  38.2          7.9\n",
      "24  66.0         42.2\n",
      "25  55.3         23.9\n",
      "26  55.3         36.9\n",
      "27  43.3          8.9\n",
      "28  70.5         36.4\n",
      "29  38.8          6.4\n"
     ]
    }
   ],
   "source": [
    "print(beer.head(50))"
   ]
  },
  {
   "cell_type": "code",
   "execution_count": 36,
   "metadata": {},
   "outputs": [
    {
     "data": {
      "text/plain": [
       "0    56.807615\n",
       "dtype: float64"
      ]
     },
     "execution_count": 36,
     "metadata": {},
     "output_type": "execute_result"
    }
   ],
   "source": [
    "lm_model.predict(pd.DataFrame({\"temperature\":[29]}))"
   ]
  },
  {
   "cell_type": "code",
   "execution_count": null,
   "metadata": {},
   "outputs": [],
   "source": []
  }
 ],
 "metadata": {
  "kernelspec": {
   "display_name": "Python 3 (ipykernel)",
   "language": "python",
   "name": "python3"
  },
  "language_info": {
   "codemirror_mode": {
    "name": "ipython",
    "version": 3
   },
   "file_extension": ".py",
   "mimetype": "text/x-python",
   "name": "python",
   "nbconvert_exporter": "python",
   "pygments_lexer": "ipython3",
   "version": "3.9.5"
  },
  "toc": {
   "base_numbering": 1,
   "nav_menu": {},
   "number_sections": false,
   "sideBar": true,
   "skip_h1_title": false,
   "title_cell": "Table of Contents",
   "title_sidebar": "Contents",
   "toc_cell": false,
   "toc_position": {
    "height": "calc(100% - 180px)",
    "left": "10px",
    "top": "150px",
    "width": "250.667px"
   },
   "toc_section_display": true,
   "toc_window_display": true
  }
 },
 "nbformat": 4,
 "nbformat_minor": 4
}
