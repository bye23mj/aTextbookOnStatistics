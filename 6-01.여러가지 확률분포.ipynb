{
 "cells": [
  {
   "cell_type": "markdown",
   "metadata": {},
   "source": [
    "# Chapter 6. 일반선형모델\n",
    "\n",
    "## 6.1 여러 가지 확률분포\n",
    "\n",
    "* 이항확률변수: 2개의 값만 가지는 확률 변수 (예) 있다/없다, 앞/뒤\n",
    "* 베르누이시행: 2종류의 결과 중 하나만 발생시키는 시행 (예) 동전의 앞면/뒷면\n",
    "* 베르누이분포: 한 번의 베르누이 시행이 일어날 때, 이항확률변수가 따르는 확률분포\n",
    "* 이항분포: 성공확률이 p면서 N회의 독립 베르누이 시행을 했을 때, 성공한 횟수 m이 따르는 이산형 확률분포\n",
    "  * 확률변수 m의 기댓값 = Np\n",
    "  * 분산 = Np(1-p)\n",
    "* 이항분포의 확률질량함수"
   ]
  },
  {
   "cell_type": "markdown",
   "metadata": {},
   "source": [
    "### 6.1.5 분석준비"
   ]
  },
  {
   "cell_type": "code",
   "execution_count": 6,
   "metadata": {
    "scrolled": true
   },
   "outputs": [],
   "source": [
    "# 수치 계산에 사용하는 라이브러리\n",
    "import numpy as np\n",
    "import pandas as pd\n",
    "import scipy as sp\n",
    "from scipy import stats\n",
    "\n",
    "# 그래프를 그리기 위한 라이브러리\n",
    "from matplotlib import pyplot as plt\n",
    "import seaborn as sns\n",
    "sns.set()\n",
    "\n",
    "# 표시자릿수 지정\n",
    "%precision 3\n",
    "# 그래프를 주피터 노트북에 그리기 위한 설정\n",
    "%matplotlib inline"
   ]
  },
  {
   "cell_type": "markdown",
   "metadata": {},
   "source": [
    "### 6.1.6 이항분포(실습)"
   ]
  },
  {
   "cell_type": "markdown",
   "metadata": {},
   "source": [
    "#### 확률질량함수(Probaility Mass Function)\n",
    "* 파라미터: k(성공횟수), n(시행횟수), p(성공확률)"
   ]
  },
  {
   "cell_type": "code",
   "execution_count": 7,
   "metadata": {
    "scrolled": true
   },
   "outputs": [
    {
     "data": {
      "text/plain": [
       "0.5000000000000002"
      ]
     },
     "execution_count": 7,
     "metadata": {},
     "output_type": "execute_result"
    }
   ],
   "source": [
    "# 확률질량함수(Probaility Mass Function)\n",
    "#성공횟수/시행횟수/성공확률\n",
    "sp.stats.binom.pmf(k = 1, n = 2, p = 0.5)"
   ]
  },
  {
   "cell_type": "code",
   "execution_count": 8,
   "metadata": {},
   "outputs": [
    {
     "data": {
      "text/plain": [
       "array([2, 3, 0, 1, 1])"
      ]
     },
     "execution_count": 8,
     "metadata": {},
     "output_type": "execute_result"
    }
   ],
   "source": [
    "# 난수 생성\n",
    "np.random.seed(1)\n",
    "\n",
    "# 앞이 나올 확률 20%인 동전을 10번 던져서 \n",
    "# 앞이 나온 수를 세는 시행 5번\n",
    "# n(난수), p(성공확률), size(시행횟수)\n",
    "sp.stats.binom.rvs(n = 10, p = 0.2, size = 5)"
   ]
  },
  {
   "cell_type": "code",
   "execution_count": 5,
   "metadata": {
    "slideshow": {
     "slide_type": "-"
    }
   },
   "outputs": [
    {
     "name": "stderr",
     "output_type": "stream",
     "text": [
      "c:\\users\\unf\\miniconda3\\lib\\site-packages\\seaborn\\distributions.py:2619: FutureWarning: `distplot` is a deprecated function and will be removed in a future version. Please adapt your code to use either `displot` (a figure-level function with similar flexibility) or `histplot` (an axes-level function for histograms).\n",
      "  warnings.warn(msg, FutureWarning)\n"
     ]
    },
    {
     "data": {
      "text/plain": [
       "[<matplotlib.lines.Line2D at 0x28be44b2d00>]"
      ]
     },
     "execution_count": 5,
     "metadata": {},
     "output_type": "execute_result"
    },
    {
     "data": {
      "image/png": "[encoded data removed]",
      "text/plain": [
       "<Figure size 432x288 with 1 Axes>"
      ]
     },
     "metadata": {
      "needs_background": "light"
     },
     "output_type": "display_data"
    }
   ],
   "source": [
    "# N=10,p=0.2인 이항분포\n",
    "binomial = sp.stats.binom(n = 10, p = 0.2)\n",
    "\n",
    "# 난수\n",
    "np.random.seed(1)\n",
    "rvs_binomial = binomial.rvs(size = 10000)\n",
    "\n",
    "# 확률밀도함수\n",
    "m = np.arange(0,10,1)\n",
    "pmf_binomial = binomial.pmf(k = m)\n",
    "\n",
    "# 난수의 히스토그램과 확률질량함수를 겹쳐서 그리기\n",
    "sns.distplot(rvs_binomial, bins = m, kde = False, norm_hist = True, color = 'gray')\n",
    "plt.plot(m, pmf_binomial, color = 'black')"
   ]
  },
  {
   "cell_type": "markdown",
   "metadata": {},
   "source": [
    "### 6.1.11 푸아송 분포(실습)\n",
    "\n",
    "1) 정의\n",
    "\n",
    "* 성공확률이 한없이 0에 가깝지만 시행횟수가 무한히 많은 이항분포\n",
    "\n",
    "* 1개 또는 2개, 1회 또는 2회 등의 카운트 데이터가 따르는 이산형 확률분포\n",
    "\n",
    "* 일어나기 어려운 사건이지만, 대상이 되는 사람수가 굉장히 많을 때의 발생건수\n",
    "\n",
    "\n",
    "2) 특징: 기대값(평균) = 분산 = λ\n",
    "\n",
    "3) 푸아송 분포의 확률질량함수(n: 카운트 데이터, λ = 강도)\n",
    "\n",
    "![{\\displaystyle f(n;\\lambda )={\\frac {\\lambda ^{n}e^{-\\lambda }}{n!}},\\,\\!}](https://wikimedia.org/api/rest_v1/media/math/render/svg/93ad8e91a5a4611aeac25ad18a63acb1ba2a7a3d)\n",
    "\n",
    "\n",
    "\n",
    "4) 예제:  \n",
    "\n",
    "* 하루의 교통사고 사상자수\n",
    "* 바다에서 낚은 물고기의 수\n",
    "- 일정 주어진 시간 동안에 도착한 고객의 수\n",
    "- 1킬로미터 도로에 있는 흠집의 수\n",
    "- 일정 주어진 생산시간 동안 발생하는 불량 수\n",
    "- 하룻동안 발생하는 출생자 수\n",
    "- 어떤 시간 동안 톨게이트를 통과하는 차량의 수\n",
    "- 어떤 페이지 하나를 완성하는 데 발생하는 오타의 발생률"
   ]
  },
  {
   "cell_type": "code",
   "execution_count": 10,
   "metadata": {
    "scrolled": true
   },
   "outputs": [
    {
     "data": {
      "text/plain": [
       "0.1353352832366127"
      ]
     },
     "execution_count": 10,
     "metadata": {},
     "output_type": "execute_result"
    }
   ],
   "source": [
    "# 푸아송 분포의 확률질량함수\n",
    "# 강도가 5인 푸아송 분포에서 어떤 값 2를 얻는 확률\n",
    "sp.stats.poisson.pmf(k = 0, mu = 2)"
   ]
  },
  {
   "cell_type": "code",
   "execution_count": 6,
   "metadata": {},
   "outputs": [
    {
     "data": {
      "text/plain": [
       "array([2, 1, 0, 1, 2])"
      ]
     },
     "execution_count": 6,
     "metadata": {},
     "output_type": "execute_result"
    }
   ],
   "source": [
    "# λ=2(강도가 2)인 푸아송 분포를 따르는 난수 생성\n",
    "np.random.seed(1)\n",
    "sp.stats.poisson.rvs(mu = 2, size = 5)"
   ]
  },
  {
   "cell_type": "code",
   "execution_count": 7,
   "metadata": {},
   "outputs": [
    {
     "data": {
      "text/plain": [
       "[<matplotlib.lines.Line2D at 0x27ff5432408>]"
      ]
     },
     "execution_count": 7,
     "metadata": {},
     "output_type": "execute_result"
    },
    {
     "data": {
      "image/png": "[encoded data removed]",
      "text/plain": [
       "<Figure size 432x288 with 1 Axes>"
      ]
     },
     "metadata": {
      "needs_background": "light"
     },
     "output_type": "display_data"
    }
   ],
   "source": [
    "# λ=2인 푸아송 분포\n",
    "poisson = sp.stats.poisson(mu = 2)\n",
    "\n",
    "# 난수\n",
    "np.random.seed(1)\n",
    "rvs_poisson = poisson.rvs(size = 10000)\n",
    "\n",
    "# 확률질량함수\n",
    "pmf_poisson = poisson.pmf(k = m)\n",
    "\n",
    "# 난수의 히스토그램과 확률질량함수를 겹쳐서 그리기\n",
    "sns.distplot(rvs_poisson, bins = m, kde = False, \n",
    "             norm_hist = True, color = 'gray')\n",
    "plt.plot(m, pmf_poisson, color = 'black')"
   ]
  },
  {
   "cell_type": "markdown",
   "metadata": {},
   "source": [
    "### 이항분포와 푸아송분포의 관계 \n",
    "\n",
    "* 이항분포(점선)\n",
    "  * 시행횟수: 100,000,000회\n",
    "  * 성공확률: 0.00000002\n",
    "\n",
    "* 푸아송분포(실선)\n",
    "  * 강도 2"
   ]
  },
  {
   "cell_type": "code",
   "execution_count": 8,
   "metadata": {},
   "outputs": [
    {
     "data": {
      "text/plain": [
       "[<matplotlib.lines.Line2D at 0x27ff54b0248>]"
      ]
     },
     "execution_count": 8,
     "metadata": {},
     "output_type": "execute_result"
    },
    {
     "data": {
      "image/png": "[encoded data removed]",
      "text/plain": [
       "<Figure size 432x288 with 1 Axes>"
      ]
     },
     "metadata": {
      "needs_background": "light"
     },
     "output_type": "display_data"
    }
   ],
   "source": [
    "# N이 크고 p가 작은 이항분포\n",
    "N = 100000000\n",
    "p = 0.00000002\n",
    "binomial_2 = sp.stats.binom(n = N, p = p)\n",
    "\n",
    "# 확률질량함수\n",
    "pmf_binomial_2 = binomial_2.pmf(k = m)\n",
    "\n",
    "# 확률질량그래프\n",
    "plt.plot(m, pmf_poisson, color = 'gray')\n",
    "plt.plot(m, pmf_binomial_2, color = 'black', \n",
    "         linestyle = 'dotted')"
   ]
  },
  {
   "cell_type": "markdown",
   "metadata": {},
   "source": [
    "#### 결론 \n",
    "* 푸아송 분포(실선)와 이항분포(점선)의 확률분포가 거의 일치\n",
    "* 푸아송 분포는 성공확률이 한없이 0에 가깝지만, 시행횟수가 무한히 많은 이항분포"
   ]
  },
  {
   "cell_type": "code",
   "execution_count": null,
   "metadata": {},
   "outputs": [],
   "source": []
  }
 ],
 "metadata": {
  "kernelspec": {
   "display_name": "Python 3 (ipykernel)",
   "language": "python",
   "name": "python3"
  },
  "language_info": {
   "codemirror_mode": {
    "name": "ipython",
    "version": 3
   },
   "file_extension": ".py",
   "mimetype": "text/x-python",
   "name": "python",
   "nbconvert_exporter": "python",
   "pygments_lexer": "ipython3",
   "version": "3.9.5"
  },
  "toc": {
   "base_numbering": 1,
   "nav_menu": {},
   "number_sections": false,
   "sideBar": true,
   "skip_h1_title": false,
   "title_cell": "Table of Contents",
   "title_sidebar": "Contents",
   "toc_cell": false,
   "toc_position": {
    "height": "calc(100% - 180px)",
    "left": "10px",
    "top": "150px",
    "width": "307.2px"
   },
   "toc_section_display": true,
   "toc_window_display": true
  }
 },
 "nbformat": 4,
 "nbformat_minor": 4
}
