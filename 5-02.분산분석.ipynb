{
 "cells": [
  {
   "cell_type": "markdown",
   "metadata": {},
   "source": [
    "# Chapter 5. 정규선형모델\n",
    "\n",
    "## 2. 분산분석\n",
    "\n",
    "### 일원배치 분산분석(One-way ANOVA)\n",
    "1. 특징 \n",
    "* 하나의 범주형 변수의 영향을 알아보기 위해 사용되는 검증방법\n",
    "* 모집단의 수에 제한이 없으며 각 표본의 수는 같지 않아도 됨\n",
    "* F 검정 통계량을 이용\n",
    "2. 가정\n",
    "* 각 집단의 측정치는 서로 독립저이며, 정규분포를 따른다.\n",
    "* 각 집단의 측정치의 분산은 같다(등분산 가정).\n",
    "\n",
    "### 이원배치 분산분석(Two-way ANOVA)\n",
    "1. 특징 \n",
    "* 두개의 범주형 변수 A, B의 영향을 알아보기 위해 사용되는 검증방법\n",
    "* 성별과 학년에 따른 시험점수의 차이를 통계적으로 검증하기 위해 사용\n",
    "* 두 독립변수 A,B 사이에 상관관계가 있는지를 살펴보는 교호작용에 대한 검증이 반드시 이루어져야 함\n",
    "2. 가정\n",
    "* 각 집단 측정치의 분포는 정규분포이어야 한다.\n",
    "* 집단 간 측정치의 분산은 같다(등분산성)\n",
    "\n",
    "\n",
    "-----\n",
    "#### \"날씨에 따라 매상이 변화한다고 말할 수 있는지 확인해보기!\"\n",
    "\n",
    "* 종속변수: 매상\n",
    "* 독립변수: 날씨(흐림, 비, 맑음)\n",
    "\n",
    "\n",
    "-----\n",
    "**분산분석**(**AN**alysis **O**f **VA**riance)\n",
    "\n",
    "- 세 개 이상의 수준 간의 평균값의 차이가 있는지 검정\n",
    "- 모집단이 정규분포를 따르는 데이터에 적용\n",
    "- F비  \n",
    "    효과의 분산크기 / 오차의 분산크기  \n",
    "    = 날씨에 따른 매상변동 / 날씨로 설명할 수 없는 매상변동   \n",
    "    = 군간변동/군내변동\n",
    "- F비가 크면 오차에 비해 효과의 영향이 크다\n",
    "\n",
    "- F분포\n",
    "    - 모집단분포가 등분산 정규분포일 때, F비의 표본분포\n",
    "    - F 분포의 누적분포함수를 사용해서 p값 계산\n",
    "    - p값이 0.05이하이면 귀무가설 기각\n"
   ]
  },
  {
   "cell_type": "markdown",
   "metadata": {},
   "source": [
    "### 5.2.8. 분석준비"
   ]
  },
  {
   "cell_type": "code",
   "execution_count": 1,
   "metadata": {},
   "outputs": [],
   "source": [
    "# 수치계산에 필요한 라이브러리\n",
    "import numpy as np\n",
    "import pandas as pd\n",
    "import scipy as sp\n",
    "from scipy import stats\n",
    "\n",
    "# 그래프를 그리기 위한 라이브러리\n",
    "from matplotlib import pyplot as plt\n",
    "import seaborn as sns\n",
    "sns.set()\n",
    "\n",
    "# 선형모델을 추정하는 라이브러리(경고가 나올 수 있습니다)\n",
    "import statsmodels.formula.api as smf\n",
    "import statsmodels.api as sm\n",
    "\n",
    "# 표시 자릿수 지정\n",
    "%precision 3\n",
    "# 그래프를 주피터 노트북에 그리기 위한 설정\n",
    "%matplotlib inline"
   ]
  },
  {
   "cell_type": "markdown",
   "metadata": {},
   "source": [
    "### 5.2.9 데이터의 작성과 표시"
   ]
  },
  {
   "cell_type": "code",
   "execution_count": 2,
   "metadata": {},
   "outputs": [
    {
     "name": "stdout",
     "output_type": "stream",
     "text": [
      "   beer weather\n",
      "0     6  cloudy\n",
      "1     8  cloudy\n",
      "2     2   rainy\n",
      "3     4   rainy\n",
      "4    10   sunny\n",
      "5    12   sunny\n"
     ]
    }
   ],
   "source": [
    "# 샘플 데이터 생성\n",
    "weather = [\n",
    "    \"cloudy\",\"cloudy\",\n",
    "    \"rainy\",\"rainy\",\n",
    "    \"sunny\",\"sunny\"\n",
    "]\n",
    "beer = [6,8,2,4,10,12]\n",
    "\n",
    "# 데이터프레임으로 결합\n",
    "weather_beer = pd.DataFrame({\n",
    "    \"beer\"   : beer,\n",
    "    \"weather\": weather\n",
    "})\n",
    "print(weather_beer)"
   ]
  },
  {
   "cell_type": "code",
   "execution_count": 3,
   "metadata": {},
   "outputs": [
    {
     "data": {
      "text/plain": [
       "<AxesSubplot:xlabel='weather', ylabel='beer'>"
      ]
     },
     "execution_count": 3,
     "metadata": {},
     "output_type": "execute_result"
    },
    {
     "data": {
      "image/png": "[encoded data removed]",
      "text/plain": [
       "<Figure size 432x288 with 1 Axes>"
      ]
     },
     "metadata": {
      "needs_background": "light"
     },
     "output_type": "display_data"
    }
   ],
   "source": [
    "# BoxPlot\n",
    "sns.boxplot(x = \"weather\",y = \"beer\", data = weather_beer, color='gray')"
   ]
  },
  {
   "cell_type": "markdown",
   "metadata": {},
   "source": [
    "비오는 날은 매상이 적고, 맑은 날은 매상이 많음"
   ]
  },
  {
   "cell_type": "code",
   "execution_count": 4,
   "metadata": {},
   "outputs": [
    {
     "name": "stdout",
     "output_type": "stream",
     "text": [
      "         beer\n",
      "weather      \n",
      "cloudy    7.0\n",
      "rainy     3.0\n",
      "sunny    11.0\n"
     ]
    }
   ],
   "source": [
    "# 각 데이터의 평균값\n",
    "print(weather_beer.groupby(\"weather\").mean())"
   ]
  },
  {
   "cell_type": "markdown",
   "metadata": {},
   "source": [
    "### 5.2.10 분산분석(1): 군간 제곱과 군내 제곱 계산"
   ]
  },
  {
   "cell_type": "code",
   "execution_count": 10,
   "metadata": {},
   "outputs": [],
   "source": [
    "# 날씨에 의한 영향\n",
    "effect = [7,7,3,3,11,11]"
   ]
  },
  {
   "cell_type": "code",
   "execution_count": 11,
   "metadata": {},
   "outputs": [
    {
     "data": {
      "text/plain": [
       "64.0"
      ]
     },
     "execution_count": 11,
     "metadata": {},
     "output_type": "execute_result"
    }
   ],
   "source": [
    "# 군간 제곱합\n",
    "mu_effect = np.mean(effect)\n",
    "squares_model = np.sum((effect - mu_effect) ** 2 )\n",
    "squares_model"
   ]
  },
  {
   "cell_type": "code",
   "execution_count": 12,
   "metadata": {},
   "outputs": [
    {
     "data": {
      "text/plain": [
       "0   -1\n",
       "1    1\n",
       "2   -1\n",
       "3    1\n",
       "4   -1\n",
       "5    1\n",
       "Name: beer, dtype: int64"
      ]
     },
     "execution_count": 12,
     "metadata": {},
     "output_type": "execute_result"
    }
   ],
   "source": [
    "# 오차 = 원래 데이터 - 효과\n",
    "resid = weather_beer.beer - effect\n",
    "resid"
   ]
  },
  {
   "cell_type": "code",
   "execution_count": 13,
   "metadata": {},
   "outputs": [
    {
     "data": {
      "text/plain": [
       "6"
      ]
     },
     "execution_count": 13,
     "metadata": {},
     "output_type": "execute_result"
    }
   ],
   "source": [
    "# 군내 제곱합\n",
    "squares_resid = np.sum(resid ** 2)\n",
    "squares_resid"
   ]
  },
  {
   "cell_type": "markdown",
   "metadata": {},
   "source": [
    "### 5.2.11 분산분석(2): 군간 분산과 군내 분산 계산"
   ]
  },
  {
   "cell_type": "code",
   "execution_count": 14,
   "metadata": {},
   "outputs": [],
   "source": [
    "df_model = 2 # 군간변동의 자유도 (수준의 종류 수 - 1)\n",
    "df_resid = 3 # 군내변동의 자유도 (샘플사이즈 - 수순의 종류 수)"
   ]
  },
  {
   "cell_type": "code",
   "execution_count": 15,
   "metadata": {},
   "outputs": [
    {
     "data": {
      "text/plain": [
       "32.0"
      ]
     },
     "execution_count": 15,
     "metadata": {},
     "output_type": "execute_result"
    }
   ],
   "source": [
    "# 군간 평균제곱(분산)\n",
    "variance_model = squares_model / df_model\n",
    "variance_model"
   ]
  },
  {
   "cell_type": "code",
   "execution_count": 16,
   "metadata": {},
   "outputs": [
    {
     "data": {
      "text/plain": [
       "2.0"
      ]
     },
     "execution_count": 16,
     "metadata": {},
     "output_type": "execute_result"
    }
   ],
   "source": [
    "# 군내 평균제곱(분산)\n",
    "variance_resid = squares_resid / df_resid\n",
    "variance_resid"
   ]
  },
  {
   "cell_type": "markdown",
   "metadata": {},
   "source": [
    "### 5.2.12 분산분석(3): p값 계산"
   ]
  },
  {
   "cell_type": "code",
   "execution_count": 17,
   "metadata": {},
   "outputs": [
    {
     "data": {
      "text/plain": [
       "16.0"
      ]
     },
     "execution_count": 17,
     "metadata": {},
     "output_type": "execute_result"
    }
   ],
   "source": [
    "# F비 = 군간분산 / 군내분산\n",
    "f_ratio = variance_model / variance_resid\n",
    "f_ratio"
   ]
  },
  {
   "cell_type": "code",
   "execution_count": 18,
   "metadata": {},
   "outputs": [
    {
     "data": {
      "text/plain": [
       "0.02509457330439091"
      ]
     },
     "execution_count": 18,
     "metadata": {},
     "output_type": "execute_result"
    }
   ],
   "source": [
    "# p값\n",
    "1 - sp.stats.f.cdf(x=f_ratio,dfn=df_model,dfd=df_resid)"
   ]
  },
  {
   "cell_type": "markdown",
   "metadata": {},
   "source": [
    "[결론]  \n",
    "p값이 0.05보다 작으므로, 날씨에 의해 매상이 유의미하게 변한다고 판단할 수 있음"
   ]
  },
  {
   "cell_type": "markdown",
   "metadata": {},
   "source": [
    "### 5.2.15 statsmodels를 이용한 분산분석"
   ]
  },
  {
   "cell_type": "code",
   "execution_count": 19,
   "metadata": {},
   "outputs": [],
   "source": [
    "# 정규 선형 모델의 구축\n",
    "anova_model = smf.ols(\"beer ~ weather\", data = weather_beer).fit()"
   ]
  },
  {
   "cell_type": "code",
   "execution_count": 20,
   "metadata": {},
   "outputs": [
    {
     "name": "stdout",
     "output_type": "stream",
     "text": [
      "          sum_sq   df     F    PR(>F)\n",
      "weather     64.0  2.0  16.0  0.025095\n",
      "Residual     6.0  3.0   NaN       NaN\n"
     ]
    }
   ],
   "source": [
    "# 분산 분석 결과\n",
    "print(sm.stats.anova_lm(anova_model, typ=2))"
   ]
  },
  {
   "cell_type": "markdown",
   "metadata": {},
   "source": [
    "* sum_sq : 편차제곱합\n",
    "* df: 자유도\n",
    "* F : F비\n",
    "* PR : p값\n",
    "\n",
    "\n",
    "p값(0.025095)이 0.05보다 작으므로, 날씨에 의해 매상이 유의미하게 변한다고 판단할 수 있음"
   ]
  },
  {
   "cell_type": "markdown",
   "metadata": {},
   "source": [
    "### 5.2.17 모델의 계수 해석"
   ]
  },
  {
   "cell_type": "code",
   "execution_count": 21,
   "metadata": {},
   "outputs": [
    {
     "data": {
      "text/plain": [
       "Intercept           7.0\n",
       "weather[T.rainy]   -4.0\n",
       "weather[T.sunny]    4.0\n",
       "dtype: float64"
      ]
     },
     "execution_count": 21,
     "metadata": {},
     "output_type": "execute_result"
    }
   ],
   "source": [
    "anova_model.params"
   ]
  },
  {
   "cell_type": "markdown",
   "metadata": {},
   "source": [
    "***7.0 - 4.0 x 비 + 4.0 x 맑음***\n",
    "\n",
    "* 흐린 날 매상 평균: 7\n",
    "* 비오는 날 매상 평균: 3\n",
    "* 맑은 날 매상 평균: 11\n"
   ]
  },
  {
   "cell_type": "markdown",
   "metadata": {},
   "source": [
    "### 5.2.18 모델을 사용해서 오차와 효과 분리하기"
   ]
  },
  {
   "cell_type": "code",
   "execution_count": 22,
   "metadata": {},
   "outputs": [
    {
     "data": {
      "text/plain": [
       "0     7.0\n",
       "1     7.0\n",
       "2     3.0\n",
       "3     3.0\n",
       "4    11.0\n",
       "5    11.0\n",
       "dtype: float64"
      ]
     },
     "execution_count": 22,
     "metadata": {},
     "output_type": "execute_result"
    }
   ],
   "source": [
    "#훈련데이터 적용 결과\n",
    "fitted = anova_model.fittedvalues\n",
    "fitted"
   ]
  },
  {
   "cell_type": "code",
   "execution_count": 23,
   "metadata": {},
   "outputs": [
    {
     "data": {
      "text/plain": [
       "0   -1.0\n",
       "1    1.0\n",
       "2   -1.0\n",
       "3    1.0\n",
       "4   -1.0\n",
       "5    1.0\n",
       "dtype: float64"
      ]
     },
     "execution_count": 23,
     "metadata": {},
     "output_type": "execute_result"
    }
   ],
   "source": [
    "# 잔차값\n",
    "anova_model.resid"
   ]
  },
  {
   "cell_type": "markdown",
   "metadata": {},
   "source": [
    "### 5.2.19 회귀모델의 분산분석\n",
    "\n",
    "* 맥주와 기온관계의 회귀모델을 분산분석으로 검정하기"
   ]
  },
  {
   "cell_type": "code",
   "execution_count": 31,
   "metadata": {},
   "outputs": [
    {
     "data": {
      "text/html": [
       "<div>\n",
       "<style scoped>\n",
       "    .dataframe tbody tr th:only-of-type {\n",
       "        vertical-align: middle;\n",
       "    }\n",
       "\n",
       "    .dataframe tbody tr th {\n",
       "        vertical-align: top;\n",
       "    }\n",
       "\n",
       "    .dataframe thead th {\n",
       "        text-align: right;\n",
       "    }\n",
       "</style>\n",
       "<table border=\"1\" class=\"dataframe\">\n",
       "  <thead>\n",
       "    <tr style=\"text-align: right;\">\n",
       "      <th></th>\n",
       "      <th>beer</th>\n",
       "      <th>temperature</th>\n",
       "    </tr>\n",
       "  </thead>\n",
       "  <tbody>\n",
       "    <tr>\n",
       "      <th>0</th>\n",
       "      <td>45.3</td>\n",
       "      <td>20.5</td>\n",
       "    </tr>\n",
       "    <tr>\n",
       "      <th>1</th>\n",
       "      <td>59.3</td>\n",
       "      <td>25.0</td>\n",
       "    </tr>\n",
       "    <tr>\n",
       "      <th>2</th>\n",
       "      <td>40.4</td>\n",
       "      <td>10.0</td>\n",
       "    </tr>\n",
       "    <tr>\n",
       "      <th>3</th>\n",
       "      <td>38.0</td>\n",
       "      <td>26.9</td>\n",
       "    </tr>\n",
       "    <tr>\n",
       "      <th>4</th>\n",
       "      <td>37.0</td>\n",
       "      <td>15.8</td>\n",
       "    </tr>\n",
       "  </tbody>\n",
       "</table>\n",
       "</div>"
      ],
      "text/plain": [
       "   beer  temperature\n",
       "0  45.3         20.5\n",
       "1  59.3         25.0\n",
       "2  40.4         10.0\n",
       "3  38.0         26.9\n",
       "4  37.0         15.8"
      ]
     },
     "execution_count": 31,
     "metadata": {},
     "output_type": "execute_result"
    }
   ],
   "source": [
    "# 데이터 읽어 들이기\n",
    "beer = pd.read_csv(\"sample/5-1-1-beer.csv\")\n",
    "beer.head()"
   ]
  },
  {
   "cell_type": "code",
   "execution_count": 32,
   "metadata": {},
   "outputs": [
    {
     "data": {
      "text/html": [
       "<table class=\"simpletable\">\n",
       "<caption>OLS Regression Results</caption>\n",
       "<tr>\n",
       "  <th>Dep. Variable:</th>          <td>beer</td>       <th>  R-squared:         </th> <td>   0.504</td>\n",
       "</tr>\n",
       "<tr>\n",
       "  <th>Model:</th>                   <td>OLS</td>       <th>  Adj. R-squared:    </th> <td>   0.486</td>\n",
       "</tr>\n",
       "<tr>\n",
       "  <th>Method:</th>             <td>Least Squares</td>  <th>  F-statistic:       </th> <td>   28.45</td>\n",
       "</tr>\n",
       "<tr>\n",
       "  <th>Date:</th>             <td>Wed, 11 May 2022</td> <th>  Prob (F-statistic):</th> <td>1.11e-05</td>\n",
       "</tr>\n",
       "<tr>\n",
       "  <th>Time:</th>                 <td>15:11:07</td>     <th>  Log-Likelihood:    </th> <td> -102.45</td>\n",
       "</tr>\n",
       "<tr>\n",
       "  <th>No. Observations:</th>      <td>    30</td>      <th>  AIC:               </th> <td>   208.9</td>\n",
       "</tr>\n",
       "<tr>\n",
       "  <th>Df Residuals:</th>          <td>    28</td>      <th>  BIC:               </th> <td>   211.7</td>\n",
       "</tr>\n",
       "<tr>\n",
       "  <th>Df Model:</th>              <td>     1</td>      <th>                     </th>     <td> </td>   \n",
       "</tr>\n",
       "<tr>\n",
       "  <th>Covariance Type:</th>      <td>nonrobust</td>    <th>                     </th>     <td> </td>   \n",
       "</tr>\n",
       "</table>\n",
       "<table class=\"simpletable\">\n",
       "<tr>\n",
       "       <td></td>          <th>coef</th>     <th>std err</th>      <th>t</th>      <th>P>|t|</th>  <th>[0.025</th>    <th>0.975]</th>  \n",
       "</tr>\n",
       "<tr>\n",
       "  <th>Intercept</th>   <td>   34.6102</td> <td>    3.235</td> <td>   10.699</td> <td> 0.000</td> <td>   27.984</td> <td>   41.237</td>\n",
       "</tr>\n",
       "<tr>\n",
       "  <th>temperature</th> <td>    0.7654</td> <td>    0.144</td> <td>    5.334</td> <td> 0.000</td> <td>    0.471</td> <td>    1.059</td>\n",
       "</tr>\n",
       "</table>\n",
       "<table class=\"simpletable\">\n",
       "<tr>\n",
       "  <th>Omnibus:</th>       <td> 0.587</td> <th>  Durbin-Watson:     </th> <td>   1.960</td>\n",
       "</tr>\n",
       "<tr>\n",
       "  <th>Prob(Omnibus):</th> <td> 0.746</td> <th>  Jarque-Bera (JB):  </th> <td>   0.290</td>\n",
       "</tr>\n",
       "<tr>\n",
       "  <th>Skew:</th>          <td>-0.240</td> <th>  Prob(JB):          </th> <td>   0.865</td>\n",
       "</tr>\n",
       "<tr>\n",
       "  <th>Kurtosis:</th>      <td> 2.951</td> <th>  Cond. No.          </th> <td>    52.5</td>\n",
       "</tr>\n",
       "</table><br/><br/>Notes:<br/>[1] Standard Errors assume that the covariance matrix of the errors is correctly specified."
      ],
      "text/plain": [
       "<class 'statsmodels.iolib.summary.Summary'>\n",
       "\"\"\"\n",
       "                            OLS Regression Results                            \n",
       "==============================================================================\n",
       "Dep. Variable:                   beer   R-squared:                       0.504\n",
       "Model:                            OLS   Adj. R-squared:                  0.486\n",
       "Method:                 Least Squares   F-statistic:                     28.45\n",
       "Date:                Wed, 11 May 2022   Prob (F-statistic):           1.11e-05\n",
       "Time:                        15:11:07   Log-Likelihood:                -102.45\n",
       "No. Observations:                  30   AIC:                             208.9\n",
       "Df Residuals:                      28   BIC:                             211.7\n",
       "Df Model:                           1                                         \n",
       "Covariance Type:            nonrobust                                         \n",
       "===============================================================================\n",
       "                  coef    std err          t      P>|t|      [0.025      0.975]\n",
       "-------------------------------------------------------------------------------\n",
       "Intercept      34.6102      3.235     10.699      0.000      27.984      41.237\n",
       "temperature     0.7654      0.144      5.334      0.000       0.471       1.059\n",
       "==============================================================================\n",
       "Omnibus:                        0.587   Durbin-Watson:                   1.960\n",
       "Prob(Omnibus):                  0.746   Jarque-Bera (JB):                0.290\n",
       "Skew:                          -0.240   Prob(JB):                        0.865\n",
       "Kurtosis:                       2.951   Cond. No.                         52.5\n",
       "==============================================================================\n",
       "\n",
       "Notes:\n",
       "[1] Standard Errors assume that the covariance matrix of the errors is correctly specified.\n",
       "\"\"\""
      ]
     },
     "execution_count": 32,
     "metadata": {},
     "output_type": "execute_result"
    }
   ],
   "source": [
    "# 모델 추정\n",
    "lm_model = smf.ols(formula = \"beer ~ temperature\", data = beer).fit()\n",
    "lm_model.summary()"
   ]
  },
  {
   "cell_type": "markdown",
   "metadata": {},
   "source": [
    "1) 군간변동\n",
    " - 독립변수가 연속형인 데이터에서는 **모델의 자유도** 라는 용어 사용  \n",
    " - **모델의 자유도** : 추정된 파라미터 수 - 1\n",
    " - 추정된 파라미터 수: 2개(절편과 기울기) \n",
    " \n",
    "2) 군내변동\n",
    " - 독립변수가 연속형인 데이터에서는 **잔차의 자유도** 라는 용어 사용\n",
    " - **잔차의 자유도** = 샘플사이즈 - 추정된 파라미터 수\n",
    " - 샘플사이즈 : 30개"
   ]
  },
  {
   "cell_type": "code",
   "execution_count": 20,
   "metadata": {},
   "outputs": [],
   "source": [
    "df_lm_model = 1  # 모델의 자유도\n",
    "df_lm_resid = 28 # 잔차의 자유도"
   ]
  },
  {
   "cell_type": "code",
   "execution_count": 21,
   "metadata": {},
   "outputs": [
    {
     "data": {
      "text/plain": [
       "28.44698368850463"
      ]
     },
     "execution_count": 21,
     "metadata": {},
     "output_type": "execute_result"
    }
   ],
   "source": [
    "# 모델을 적용한 값\n",
    "lm_effect = lm_model.fittedvalues\n",
    "# 잔차\n",
    "lm_resid = lm_model.resid\n",
    "# 기온의 효과와 크기\n",
    "mu = np.mean(lm_effect)\n",
    "squares_lm_model = np.sum((lm_effect - mu) ** 2)\n",
    "variance_lm_model = squares_lm_model / df_lm_model\n",
    "# 잔차의 크기\n",
    "squares_lm_resid = np.sum((lm_resid) ** 2)\n",
    "variance_lm_resid = squares_lm_resid / df_lm_resid\n",
    "# F비\n",
    "f_value_lm = variance_lm_model / variance_lm_resid\n",
    "f_value_lm"
   ]
  },
  {
   "cell_type": "code",
   "execution_count": 22,
   "metadata": {},
   "outputs": [
    {
     "data": {
      "text/plain": [
       "1.1148907825053733e-05"
      ]
     },
     "execution_count": 22,
     "metadata": {},
     "output_type": "execute_result"
    }
   ],
   "source": [
    "# p값이 거의 0이 되어버리림\n",
    "1 - sp.stats.f.cdf(\n",
    "    x=f_value_lm,dfn=df_lm_model,dfd=df_lm_resid)"
   ]
  },
  {
   "cell_type": "code",
   "execution_count": 23,
   "metadata": {
    "scrolled": true
   },
   "outputs": [
    {
     "name": "stdout",
     "output_type": "stream",
     "text": [
      "                  sum_sq    df          F    PR(>F)\n",
      "temperature  1651.532489   1.0  28.446984  0.000011\n",
      "Residual     1625.582178  28.0        NaN       NaN\n"
     ]
    }
   ],
   "source": [
    "# 분산분석표 출력하여 f비 확인\n",
    "print(sm.stats.anova_lm(lm_model, typ=2))"
   ]
  },
  {
   "cell_type": "code",
   "execution_count": 24,
   "metadata": {
    "scrolled": true
   },
   "outputs": [
    {
     "data": {
      "text/html": [
       "<table class=\"simpletable\">\n",
       "<caption>OLS Regression Results</caption>\n",
       "<tr>\n",
       "  <th>Dep. Variable:</th>          <td>beer</td>       <th>  R-squared:         </th> <td>   0.504</td>\n",
       "</tr>\n",
       "<tr>\n",
       "  <th>Model:</th>                   <td>OLS</td>       <th>  Adj. R-squared:    </th> <td>   0.486</td>\n",
       "</tr>\n",
       "<tr>\n",
       "  <th>Method:</th>             <td>Least Squares</td>  <th>  F-statistic:       </th> <td>   28.45</td>\n",
       "</tr>\n",
       "<tr>\n",
       "  <th>Date:</th>             <td>Wed, 17 Jun 2020</td> <th>  Prob (F-statistic):</th> <td>1.11e-05</td>\n",
       "</tr>\n",
       "<tr>\n",
       "  <th>Time:</th>                 <td>15:32:09</td>     <th>  Log-Likelihood:    </th> <td> -102.45</td>\n",
       "</tr>\n",
       "<tr>\n",
       "  <th>No. Observations:</th>      <td>    30</td>      <th>  AIC:               </th> <td>   208.9</td>\n",
       "</tr>\n",
       "<tr>\n",
       "  <th>Df Residuals:</th>          <td>    28</td>      <th>  BIC:               </th> <td>   211.7</td>\n",
       "</tr>\n",
       "<tr>\n",
       "  <th>Df Model:</th>              <td>     1</td>      <th>                     </th>     <td> </td>   \n",
       "</tr>\n",
       "<tr>\n",
       "  <th>Covariance Type:</th>      <td>nonrobust</td>    <th>                     </th>     <td> </td>   \n",
       "</tr>\n",
       "</table>\n",
       "<table class=\"simpletable\">\n",
       "<tr>\n",
       "       <td></td>          <th>coef</th>     <th>std err</th>      <th>t</th>      <th>P>|t|</th>  <th>[0.025</th>    <th>0.975]</th>  \n",
       "</tr>\n",
       "<tr>\n",
       "  <th>Intercept</th>   <td>   34.6102</td> <td>    3.235</td> <td>   10.699</td> <td> 0.000</td> <td>   27.984</td> <td>   41.237</td>\n",
       "</tr>\n",
       "<tr>\n",
       "  <th>temperature</th> <td>    0.7654</td> <td>    0.144</td> <td>    5.334</td> <td> 0.000</td> <td>    0.471</td> <td>    1.059</td>\n",
       "</tr>\n",
       "</table>\n",
       "<table class=\"simpletable\">\n",
       "<tr>\n",
       "  <th>Omnibus:</th>       <td> 0.587</td> <th>  Durbin-Watson:     </th> <td>   1.960</td>\n",
       "</tr>\n",
       "<tr>\n",
       "  <th>Prob(Omnibus):</th> <td> 0.746</td> <th>  Jarque-Bera (JB):  </th> <td>   0.290</td>\n",
       "</tr>\n",
       "<tr>\n",
       "  <th>Skew:</th>          <td>-0.240</td> <th>  Prob(JB):          </th> <td>   0.865</td>\n",
       "</tr>\n",
       "<tr>\n",
       "  <th>Kurtosis:</th>      <td> 2.951</td> <th>  Cond. No.          </th> <td>    52.5</td>\n",
       "</tr>\n",
       "</table><br/><br/>Warnings:<br/>[1] Standard Errors assume that the covariance matrix of the errors is correctly specified."
      ],
      "text/plain": [
       "<class 'statsmodels.iolib.summary.Summary'>\n",
       "\"\"\"\n",
       "                            OLS Regression Results                            \n",
       "==============================================================================\n",
       "Dep. Variable:                   beer   R-squared:                       0.504\n",
       "Model:                            OLS   Adj. R-squared:                  0.486\n",
       "Method:                 Least Squares   F-statistic:                     28.45\n",
       "Date:                Wed, 17 Jun 2020   Prob (F-statistic):           1.11e-05\n",
       "Time:                        15:32:09   Log-Likelihood:                -102.45\n",
       "No. Observations:                  30   AIC:                             208.9\n",
       "Df Residuals:                      28   BIC:                             211.7\n",
       "Df Model:                           1                                         \n",
       "Covariance Type:            nonrobust                                         \n",
       "===============================================================================\n",
       "                  coef    std err          t      P>|t|      [0.025      0.975]\n",
       "-------------------------------------------------------------------------------\n",
       "Intercept      34.6102      3.235     10.699      0.000      27.984      41.237\n",
       "temperature     0.7654      0.144      5.334      0.000       0.471       1.059\n",
       "==============================================================================\n",
       "Omnibus:                        0.587   Durbin-Watson:                   1.960\n",
       "Prob(Omnibus):                  0.746   Jarque-Bera (JB):                0.290\n",
       "Skew:                          -0.240   Prob(JB):                        0.865\n",
       "Kurtosis:                       2.951   Cond. No.                         52.5\n",
       "==============================================================================\n",
       "\n",
       "Warnings:\n",
       "[1] Standard Errors assume that the covariance matrix of the errors is correctly specified.\n",
       "\"\"\""
      ]
     },
     "execution_count": 24,
     "metadata": {},
     "output_type": "execute_result"
    }
   ],
   "source": [
    "# Sumamry\n",
    "lm_model.summary()"
   ]
  },
  {
   "cell_type": "markdown",
   "metadata": {},
   "source": [
    "* F-statistic: F비\n",
    "* Prob (F-statistic): 분산분석의 p"
   ]
  },
  {
   "cell_type": "markdown",
   "metadata": {},
   "source": [
    "## [정리]\n",
    "\n",
    "### 분산분석(ANOVA)\n",
    "\n",
    "- 두 개 이상의 집단에서 그룹간 차이를 그룹 내 변동에 비교해여 살펴보는 데이터 분석 방법\n",
    "\n",
    "- F검정을 하여 얻어진 p값을 유의수준과 비교하여 검정\n",
    "\n",
    "  \n",
    "\n",
    "1. 모델링\n",
    "\n",
    "   anova_model = smf.**ols**(\"beer ~ weather\", data = weather_beer).fit()\n",
    "   \n",
    "   \n",
    "\n",
    "2. 분산분석  \n",
    "\n",
    "   sm.stats.**anova_lm**(anova_model, **typ=2**)"
   ]
  }
 ],
 "metadata": {
  "kernelspec": {
   "display_name": "Python 3 (ipykernel)",
   "language": "python",
   "name": "python3"
  },
  "language_info": {
   "codemirror_mode": {
    "name": "ipython",
    "version": 3
   },
   "file_extension": ".py",
   "mimetype": "text/x-python",
   "name": "python",
   "nbconvert_exporter": "python",
   "pygments_lexer": "ipython3",
   "version": "3.9.5"
  },
  "toc": {
   "base_numbering": 1,
   "nav_menu": {},
   "number_sections": false,
   "sideBar": true,
   "skip_h1_title": false,
   "title_cell": "Table of Contents",
   "title_sidebar": "Contents",
   "toc_cell": false,
   "toc_position": {
    "height": "calc(100% - 180px)",
    "left": "10px",
    "top": "150px",
    "width": "463.2px"
   },
   "toc_section_display": true,
   "toc_window_display": true
  }
 },
 "nbformat": 4,
 "nbformat_minor": 4
}
